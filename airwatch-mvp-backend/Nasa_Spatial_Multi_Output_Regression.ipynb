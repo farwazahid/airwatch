{
  "nbformat": 4,
  "nbformat_minor": 0,
  "metadata": {
    "colab": {
      "provenance": []
    },
    "kernelspec": {
      "name": "python3",
      "display_name": "Python 3"
    },
    "language_info": {
      "name": "python"
    }
  },
  "cells": [
    {
      "cell_type": "code",
      "execution_count": null,
      "metadata": {
        "colab": {
          "base_uri": "https://localhost:8080/"
        },
        "id": "g-rl2PdS4k5J",
        "outputId": "670f8d05-453d-43b9-842e-8659f2671505"
      },
      "outputs": [
        {
          "output_type": "stream",
          "name": "stdout",
          "text": [
            "Requirement already satisfied: xgboost in /usr/local/lib/python3.12/dist-packages (3.0.5)\n",
            "Requirement already satisfied: scikit-learn in /usr/local/lib/python3.12/dist-packages (1.6.1)\n",
            "Requirement already satisfied: pandas in /usr/local/lib/python3.12/dist-packages (2.2.2)\n",
            "Requirement already satisfied: numpy in /usr/local/lib/python3.12/dist-packages (from xgboost) (2.0.2)\n",
            "Requirement already satisfied: nvidia-nccl-cu12 in /usr/local/lib/python3.12/dist-packages (from xgboost) (2.27.3)\n",
            "Requirement already satisfied: scipy in /usr/local/lib/python3.12/dist-packages (from xgboost) (1.16.2)\n",
            "Requirement already satisfied: joblib>=1.2.0 in /usr/local/lib/python3.12/dist-packages (from scikit-learn) (1.5.2)\n",
            "Requirement already satisfied: threadpoolctl>=3.1.0 in /usr/local/lib/python3.12/dist-packages (from scikit-learn) (3.6.0)\n",
            "Requirement already satisfied: python-dateutil>=2.8.2 in /usr/local/lib/python3.12/dist-packages (from pandas) (2.9.0.post0)\n",
            "Requirement already satisfied: pytz>=2020.1 in /usr/local/lib/python3.12/dist-packages (from pandas) (2025.2)\n",
            "Requirement already satisfied: tzdata>=2022.7 in /usr/local/lib/python3.12/dist-packages (from pandas) (2025.2)\n",
            "Requirement already satisfied: six>=1.5 in /usr/local/lib/python3.12/dist-packages (from python-dateutil>=2.8.2->pandas) (1.17.0)\n",
            "Starting Air Quality Prediction Model Training...\n",
            "--------------------------------------------------\n"
          ]
        }
      ],
      "source": [
        "# --- 1. Installation and Imports ---\n",
        "!pip install xgboost scikit-learn pandas\n",
        "import pandas as pd\n",
        "import numpy as np\n",
        "import xgboost as xgb\n",
        "import joblib\n",
        "from sklearn.model_selection import train_test_split\n",
        "from sklearn.multioutput import MultiOutputRegressor\n",
        "from sklearn.metrics import mean_squared_error, r2_score, mean_absolute_error\n",
        "from google.colab import files\n",
        "import io\n",
        "import os\n",
        "\n",
        "# Define file names and constants\n",
        "INPUT_FILE_NAME = 'airnow_cleaned.csv'\n",
        "MODEL_FILE_NAME = 'xgboost_air_quality_model.joblib'\n",
        "\n",
        "print(\"Starting Air Quality Prediction Model Training...\")\n",
        "print(\"-\" * 50)\n",
        "\n"
      ]
    },
    {
      "cell_type": "code",
      "source": [
        "# --- 2. Upload Data (Run this cell and upload 'airnow_cleaned.csv') ---\n",
        "print(f\"Please upload the '{INPUT_FILE_NAME}' file now...\")\n",
        "uploaded = files.upload()\n",
        "\n",
        "if INPUT_FILE_NAME not in uploaded:\n",
        "    print(f\"Error: Could not find {INPUT_FILE_NAME} in the uploaded files. Please check the file name.\")\n",
        "else:\n",
        "    # Read the data from the uploaded file\n",
        "    data_io = io.StringIO(uploaded[INPUT_FILE_NAME].decode('utf-8'))\n",
        "    df = pd.read_csv(data_io)\n",
        "\n",
        "    print(f\"\\nSuccessfully loaded {len(df)} rows from '{INPUT_FILE_NAME}'.\")\n",
        "\n"
      ],
      "metadata": {
        "colab": {
          "base_uri": "https://localhost:8080/",
          "height": 128
        },
        "id": "o5E89O9K45Ch",
        "outputId": "494cf810-b053-47ff-eaa8-d730fe793a22"
      },
      "execution_count": null,
      "outputs": [
        {
          "output_type": "stream",
          "name": "stdout",
          "text": [
            "Please upload the 'airnow_cleaned.csv' file now...\n"
          ]
        },
        {
          "output_type": "display_data",
          "data": {
            "text/plain": [
              "<IPython.core.display.HTML object>"
            ],
            "text/html": [
              "\n",
              "     <input type=\"file\" id=\"files-3084bb88-7c80-4b0b-a199-39ac77855f5a\" name=\"files[]\" multiple disabled\n",
              "        style=\"border:none\" />\n",
              "     <output id=\"result-3084bb88-7c80-4b0b-a199-39ac77855f5a\">\n",
              "      Upload widget is only available when the cell has been executed in the\n",
              "      current browser session. Please rerun this cell to enable.\n",
              "      </output>\n",
              "      <script>// Copyright 2017 Google LLC\n",
              "//\n",
              "// Licensed under the Apache License, Version 2.0 (the \"License\");\n",
              "// you may not use this file except in compliance with the License.\n",
              "// You may obtain a copy of the License at\n",
              "//\n",
              "//      http://www.apache.org/licenses/LICENSE-2.0\n",
              "//\n",
              "// Unless required by applicable law or agreed to in writing, software\n",
              "// distributed under the License is distributed on an \"AS IS\" BASIS,\n",
              "// WITHOUT WARRANTIES OR CONDITIONS OF ANY KIND, either express or implied.\n",
              "// See the License for the specific language governing permissions and\n",
              "// limitations under the License.\n",
              "\n",
              "/**\n",
              " * @fileoverview Helpers for google.colab Python module.\n",
              " */\n",
              "(function(scope) {\n",
              "function span(text, styleAttributes = {}) {\n",
              "  const element = document.createElement('span');\n",
              "  element.textContent = text;\n",
              "  for (const key of Object.keys(styleAttributes)) {\n",
              "    element.style[key] = styleAttributes[key];\n",
              "  }\n",
              "  return element;\n",
              "}\n",
              "\n",
              "// Max number of bytes which will be uploaded at a time.\n",
              "const MAX_PAYLOAD_SIZE = 100 * 1024;\n",
              "\n",
              "function _uploadFiles(inputId, outputId) {\n",
              "  const steps = uploadFilesStep(inputId, outputId);\n",
              "  const outputElement = document.getElementById(outputId);\n",
              "  // Cache steps on the outputElement to make it available for the next call\n",
              "  // to uploadFilesContinue from Python.\n",
              "  outputElement.steps = steps;\n",
              "\n",
              "  return _uploadFilesContinue(outputId);\n",
              "}\n",
              "\n",
              "// This is roughly an async generator (not supported in the browser yet),\n",
              "// where there are multiple asynchronous steps and the Python side is going\n",
              "// to poll for completion of each step.\n",
              "// This uses a Promise to block the python side on completion of each step,\n",
              "// then passes the result of the previous step as the input to the next step.\n",
              "function _uploadFilesContinue(outputId) {\n",
              "  const outputElement = document.getElementById(outputId);\n",
              "  const steps = outputElement.steps;\n",
              "\n",
              "  const next = steps.next(outputElement.lastPromiseValue);\n",
              "  return Promise.resolve(next.value.promise).then((value) => {\n",
              "    // Cache the last promise value to make it available to the next\n",
              "    // step of the generator.\n",
              "    outputElement.lastPromiseValue = value;\n",
              "    return next.value.response;\n",
              "  });\n",
              "}\n",
              "\n",
              "/**\n",
              " * Generator function which is called between each async step of the upload\n",
              " * process.\n",
              " * @param {string} inputId Element ID of the input file picker element.\n",
              " * @param {string} outputId Element ID of the output display.\n",
              " * @return {!Iterable<!Object>} Iterable of next steps.\n",
              " */\n",
              "function* uploadFilesStep(inputId, outputId) {\n",
              "  const inputElement = document.getElementById(inputId);\n",
              "  inputElement.disabled = false;\n",
              "\n",
              "  const outputElement = document.getElementById(outputId);\n",
              "  outputElement.innerHTML = '';\n",
              "\n",
              "  const pickedPromise = new Promise((resolve) => {\n",
              "    inputElement.addEventListener('change', (e) => {\n",
              "      resolve(e.target.files);\n",
              "    });\n",
              "  });\n",
              "\n",
              "  const cancel = document.createElement('button');\n",
              "  inputElement.parentElement.appendChild(cancel);\n",
              "  cancel.textContent = 'Cancel upload';\n",
              "  const cancelPromise = new Promise((resolve) => {\n",
              "    cancel.onclick = () => {\n",
              "      resolve(null);\n",
              "    };\n",
              "  });\n",
              "\n",
              "  // Wait for the user to pick the files.\n",
              "  const files = yield {\n",
              "    promise: Promise.race([pickedPromise, cancelPromise]),\n",
              "    response: {\n",
              "      action: 'starting',\n",
              "    }\n",
              "  };\n",
              "\n",
              "  cancel.remove();\n",
              "\n",
              "  // Disable the input element since further picks are not allowed.\n",
              "  inputElement.disabled = true;\n",
              "\n",
              "  if (!files) {\n",
              "    return {\n",
              "      response: {\n",
              "        action: 'complete',\n",
              "      }\n",
              "    };\n",
              "  }\n",
              "\n",
              "  for (const file of files) {\n",
              "    const li = document.createElement('li');\n",
              "    li.append(span(file.name, {fontWeight: 'bold'}));\n",
              "    li.append(span(\n",
              "        `(${file.type || 'n/a'}) - ${file.size} bytes, ` +\n",
              "        `last modified: ${\n",
              "            file.lastModifiedDate ? file.lastModifiedDate.toLocaleDateString() :\n",
              "                                    'n/a'} - `));\n",
              "    const percent = span('0% done');\n",
              "    li.appendChild(percent);\n",
              "\n",
              "    outputElement.appendChild(li);\n",
              "\n",
              "    const fileDataPromise = new Promise((resolve) => {\n",
              "      const reader = new FileReader();\n",
              "      reader.onload = (e) => {\n",
              "        resolve(e.target.result);\n",
              "      };\n",
              "      reader.readAsArrayBuffer(file);\n",
              "    });\n",
              "    // Wait for the data to be ready.\n",
              "    let fileData = yield {\n",
              "      promise: fileDataPromise,\n",
              "      response: {\n",
              "        action: 'continue',\n",
              "      }\n",
              "    };\n",
              "\n",
              "    // Use a chunked sending to avoid message size limits. See b/62115660.\n",
              "    let position = 0;\n",
              "    do {\n",
              "      const length = Math.min(fileData.byteLength - position, MAX_PAYLOAD_SIZE);\n",
              "      const chunk = new Uint8Array(fileData, position, length);\n",
              "      position += length;\n",
              "\n",
              "      const base64 = btoa(String.fromCharCode.apply(null, chunk));\n",
              "      yield {\n",
              "        response: {\n",
              "          action: 'append',\n",
              "          file: file.name,\n",
              "          data: base64,\n",
              "        },\n",
              "      };\n",
              "\n",
              "      let percentDone = fileData.byteLength === 0 ?\n",
              "          100 :\n",
              "          Math.round((position / fileData.byteLength) * 100);\n",
              "      percent.textContent = `${percentDone}% done`;\n",
              "\n",
              "    } while (position < fileData.byteLength);\n",
              "  }\n",
              "\n",
              "  // All done.\n",
              "  yield {\n",
              "    response: {\n",
              "      action: 'complete',\n",
              "    }\n",
              "  };\n",
              "}\n",
              "\n",
              "scope.google = scope.google || {};\n",
              "scope.google.colab = scope.google.colab || {};\n",
              "scope.google.colab._files = {\n",
              "  _uploadFiles,\n",
              "  _uploadFilesContinue,\n",
              "};\n",
              "})(self);\n",
              "</script> "
            ]
          },
          "metadata": {}
        },
        {
          "output_type": "stream",
          "name": "stdout",
          "text": [
            "Saving airnow_cleaned.csv to airnow_cleaned.csv\n",
            "\n",
            "Successfully loaded 2716 rows from 'airnow_cleaned.csv'.\n"
          ]
        }
      ]
    },
    {
      "cell_type": "code",
      "source": [
        "def preprocess_and_split_data(df):\n",
        "# --- 3. Data Preprocessing and Feature Selection ---\n",
        "\n",
        "# Define features (X) and targets (Y)\n",
        "# Since all dates are the same, we only use spatial data: Latitude and Longitude\n",
        "    FEATURES = ['Latitude', 'Longitude']\n",
        "    TARGETS = ['AQI', 'PM2.5', 'PM10', 'O3', 'NO2', 'CO', 'SO2']\n",
        "\n",
        "    X = df[FEATURES]\n",
        "    Y = df[TARGETS]\n",
        "\n",
        "    # Split data into training and testing sets (80% train, 20% test)\n",
        "    X_train, X_test, Y_train, Y_test = train_test_split(\n",
        "        X, Y, test_size=0.2, random_state=42\n",
        "    )\n",
        "\n",
        "    print(f\"Training set size: {len(X_train)} samples\")\n",
        "    print(f\"Test set size: {len(X_test)} samples\")\n",
        "\n",
        "    return X_train, X_test, Y_train, Y_test # A function would typically return the split data"
      ],
      "metadata": {
        "id": "DBbJRia15Clu"
      },
      "execution_count": null,
      "outputs": []
    },
    {
      "cell_type": "code",
      "metadata": {
        "colab": {
          "base_uri": "https://localhost:8080/"
        },
        "id": "54086b42",
        "outputId": "929bd978-e3fb-4427-b2b5-44a3014046e7"
      },
      "source": [
        "# Call the data preprocessing and splitting function\n",
        "X_train, X_test, Y_train, Y_test = preprocess_and_split_data(df)"
      ],
      "execution_count": null,
      "outputs": [
        {
          "output_type": "stream",
          "name": "stdout",
          "text": [
            "Training set size: 2172 samples\n",
            "Test set size: 544 samples\n"
          ]
        }
      ]
    },
    {
      "cell_type": "code",
      "source": [
        "# --- 4. Model Definition and Training ---\n",
        "\n",
        "# Initialize the base XGBoost Regressor\n",
        "# Using 'gbtree' booster for tree-based modeling\n",
        "# n_estimators can be increased for potentially better performance\n",
        "base_regressor = xgb.XGBRegressor(\n",
        "    objective='reg:squarederror',\n",
        "    n_estimators=150,           # Number of boosting rounds\n",
        "    learning_rate=0.05,         # Step size shrinkage to prevent overfitting\n",
        "    random_state=42,\n",
        "    n_jobs=-1                   # Use all available cores\n",
        ")\n",
        "\n",
        "# Wrap the XGBoost model in the MultiOutputRegressor\n",
        "# This trains a separate XGBoost model for each of the 6 target variables\n",
        "multioutput_model = MultiOutputRegressor(base_regressor)\n",
        "\n",
        "print(\"\\nTraining the Multi-Output XGBoost model...\")\n",
        "multioutput_model.fit(X_train, Y_train)\n",
        "print(\"Training complete.\")"
      ],
      "metadata": {
        "colab": {
          "base_uri": "https://localhost:8080/"
        },
        "id": "2lAjxBXs5Hn2",
        "outputId": "75389dcb-a0d7-4e73-a034-3bbcab3dd5e0"
      },
      "execution_count": null,
      "outputs": [
        {
          "output_type": "stream",
          "name": "stdout",
          "text": [
            "\n",
            "Training the Multi-Output XGBoost model...\n",
            "Training complete.\n"
          ]
        }
      ]
    },
    {
      "cell_type": "code",
      "source": [
        "# --- 5. Model Evaluation ---\n",
        "TARGETS = ['AQI', 'PM2.5', 'PM10', 'O3', 'NO2', 'CO', 'SO2']\n",
        "# Make predictions on the test set\n",
        "Y_pred = multioutput_model.predict(X_test)\n",
        "\n",
        "# Evaluate performance for each target\n",
        "print(\"\\nModel Evaluation (Test Set):\")\n",
        "for i, target in enumerate(TARGETS):\n",
        "    # Calculate R-squared (coefficient of determination)\n",
        "    r2 = r2_score(Y_test.iloc[:, i], Y_pred[:, i])\n",
        "    # Calculate Root Mean Squared Error (RMSE)\n",
        "    rmse = np.sqrt(mean_squared_error(Y_test.iloc[:, i], Y_pred[:, i]))\n",
        "    # Calculate Mean Absolute Error (MAE)\n",
        "    mae = mean_absolute_error(Y_test.iloc[:, i], Y_pred[:, i])\n",
        "\n",
        "    print(f\"  {target:<5} -> R²: {r2:.4f}, RMSE: {rmse:.2f}, MAE: {mae:.2f}\")"
      ],
      "metadata": {
        "colab": {
          "base_uri": "https://localhost:8080/"
        },
        "id": "JxTLKAF55Oau",
        "outputId": "2b22a04a-aa7a-444c-c736-1a13719af38f"
      },
      "execution_count": null,
      "outputs": [
        {
          "output_type": "stream",
          "name": "stdout",
          "text": [
            "\n",
            "Model Evaluation (Test Set):\n",
            "  AQI   -> R²: -0.0338, RMSE: 46.12, MAE: 33.69\n",
            "  PM2.5 -> R²: 0.0033, RMSE: 3.81, MAE: 1.71\n",
            "  PM10  -> R²: -0.3398, RMSE: 7.34, MAE: 2.58\n",
            "  O3    -> R²: 0.2021, RMSE: 7.63, MAE: 5.05\n",
            "  NO2   -> R²: 0.0443, RMSE: 2.70, MAE: 0.88\n",
            "  CO    -> R²: -0.4315, RMSE: 0.06, MAE: 0.02\n",
            "  SO2   -> R²: -0.1775, RMSE: 0.25, MAE: 0.07\n"
          ]
        }
      ]
    },
    {
      "cell_type": "code",
      "source": [
        "# --- 6. Save and Download the Model ---\n",
        "# Save the trained model to a file using joblib\n",
        "joblib.dump(multioutput_model, MODEL_FILE_NAME)\n",
        "print(f\"\\nModel successfully saved as '{MODEL_FILE_NAME}'.\")\n",
        "\n",
        "# Trigger the download of the model file\n",
        "files.download(MODEL_FILE_NAME)\n",
        "print(f\"'{MODEL_FILE_NAME}' download initiated.\")"
      ],
      "metadata": {
        "colab": {
          "base_uri": "https://localhost:8080/",
          "height": 72
        },
        "id": "EoceA3Jk5P4g",
        "outputId": "54aa5e86-e25f-44c2-de6e-938b42e1a298"
      },
      "execution_count": null,
      "outputs": [
        {
          "output_type": "stream",
          "name": "stdout",
          "text": [
            "\n",
            "Model successfully saved as 'xgboost_air_quality_model.joblib'.\n"
          ]
        },
        {
          "output_type": "display_data",
          "data": {
            "text/plain": [
              "<IPython.core.display.Javascript object>"
            ],
            "application/javascript": [
              "\n",
              "    async function download(id, filename, size) {\n",
              "      if (!google.colab.kernel.accessAllowed) {\n",
              "        return;\n",
              "      }\n",
              "      const div = document.createElement('div');\n",
              "      const label = document.createElement('label');\n",
              "      label.textContent = `Downloading \"${filename}\": `;\n",
              "      div.appendChild(label);\n",
              "      const progress = document.createElement('progress');\n",
              "      progress.max = size;\n",
              "      div.appendChild(progress);\n",
              "      document.body.appendChild(div);\n",
              "\n",
              "      const buffers = [];\n",
              "      let downloaded = 0;\n",
              "\n",
              "      const channel = await google.colab.kernel.comms.open(id);\n",
              "      // Send a message to notify the kernel that we're ready.\n",
              "      channel.send({})\n",
              "\n",
              "      for await (const message of channel.messages) {\n",
              "        // Send a message to notify the kernel that we're ready.\n",
              "        channel.send({})\n",
              "        if (message.buffers) {\n",
              "          for (const buffer of message.buffers) {\n",
              "            buffers.push(buffer);\n",
              "            downloaded += buffer.byteLength;\n",
              "            progress.value = downloaded;\n",
              "          }\n",
              "        }\n",
              "      }\n",
              "      const blob = new Blob(buffers, {type: 'application/binary'});\n",
              "      const a = document.createElement('a');\n",
              "      a.href = window.URL.createObjectURL(blob);\n",
              "      a.download = filename;\n",
              "      div.appendChild(a);\n",
              "      a.click();\n",
              "      div.remove();\n",
              "    }\n",
              "  "
            ]
          },
          "metadata": {}
        },
        {
          "output_type": "display_data",
          "data": {
            "text/plain": [
              "<IPython.core.display.Javascript object>"
            ],
            "application/javascript": [
              "download(\"download_3528524d-580f-437a-a436-144fef822ae8\", \"xgboost_air_quality_model.joblib\", 3729759)"
            ]
          },
          "metadata": {}
        },
        {
          "output_type": "stream",
          "name": "stdout",
          "text": [
            "'xgboost_air_quality_model.joblib' download initiated.\n"
          ]
        }
      ]
    },
    {
      "cell_type": "code",
      "source": [
        "import joblib\n",
        "import pandas as pd\n",
        "from google.colab import files\n",
        "import io"
      ],
      "metadata": {
        "id": "dR65mj7M6yY8"
      },
      "execution_count": null,
      "outputs": []
    },
    {
      "cell_type": "code",
      "source": [
        "# Load the model file\n",
        "print(\"Upload the 'xgboost_air_quality_model.joblib' file to load the model.\")\n",
        "files.upload()"
      ],
      "metadata": {
        "id": "MyhduaF961Dg"
      },
      "execution_count": null,
      "outputs": []
    },
    {
      "cell_type": "code",
      "source": [
        "# Load the model from the file\n",
        "loaded_model = joblib.load('xgboost_air_quality_model.joblib')"
      ],
      "metadata": {
        "id": "xoK6O-cc627B"
      },
      "execution_count": null,
      "outputs": []
    },
    {
      "cell_type": "code",
      "source": [
        "# Example new data for prediction\n",
        "new_locations = pd.DataFrame({\n",
        "    'Latitude': [144.0],\n",
        "    'Longitude': [110.77]\n",
        "})"
      ],
      "metadata": {
        "id": "1Cm90G9U65z5"
      },
      "execution_count": null,
      "outputs": []
    },
    {
      "cell_type": "code",
      "source": [
        "# Make predictions\n",
        "predictions = loaded_model.predict(new_locations)"
      ],
      "metadata": {
        "id": "ucTO27k3684-"
      },
      "execution_count": null,
      "outputs": []
    },
    {
      "cell_type": "code",
      "source": [
        "# Display results in a clear format\n",
        "prediction_df = pd.DataFrame(\n",
        "    predictions,\n",
        "    columns=['AQI', 'PM2.5', 'PM10', 'O3', 'NO2', 'CO', 'SO2']\n",
        ")\n",
        "prediction_df['Latitude'] = new_locations['Latitude']\n",
        "prediction_df['Longitude'] = new_locations['Longitude']\n",
        "\n",
        "print(\"\\nPredictions for new locations:\")\n",
        "print(prediction_df[['Latitude', 'Longitude', 'AQI', 'PM2.5', 'PM10', 'O3', 'NO2', 'CO', 'SO2']])"
      ],
      "metadata": {
        "colab": {
          "base_uri": "https://localhost:8080/"
        },
        "id": "M3ZoNGJL6-Vm",
        "outputId": "598e0b07-3cda-415d-d896-f8ae15a10001"
      },
      "execution_count": null,
      "outputs": [
        {
          "output_type": "stream",
          "name": "stdout",
          "text": [
            "\n",
            "Predictions for new locations:\n",
            "   Latitude  Longitude        AQI     PM2.5       PM10        O3       NO2  \\\n",
            "0     144.0     110.77  34.548126  6.874144  17.014456  23.61998  5.104879   \n",
            "\n",
            "         CO       SO2  \n",
            "0  0.200611  0.200131  \n"
          ]
        }
      ]
    }
  ]
}